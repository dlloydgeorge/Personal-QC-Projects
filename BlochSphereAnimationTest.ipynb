{
 "cells": [
  {
   "cell_type": "code",
   "execution_count": 1,
   "metadata": {},
   "outputs": [
    {
     "name": "stdout",
     "output_type": "stream",
     "text": [
      "100\n",
      "animation being created\n"
     ]
    },
    {
     "ename": "IndexError",
     "evalue": "list index out of range",
     "output_type": "error",
     "traceback": [
      "\u001b[1;31m---------------------------------------------------------------------------\u001b[0m",
      "\u001b[1;31mIndexError\u001b[0m                                Traceback (most recent call last)",
      "Cell \u001b[1;32mIn[1], line 55\u001b[0m\n\u001b[0;32m     51\u001b[0m     html \u001b[39m=\u001b[39m display\u001b[39m.\u001b[39mHTML(video)\n\u001b[0;32m     52\u001b[0m     display\u001b[39m.\u001b[39mdisplay(html)\n\u001b[1;32m---> 55\u001b[0m AnimateBlochSphere(\u001b[39m\"\u001b[39;49m\u001b[39m/Users/DLG/Desktop/testblochanimation.mp4\u001b[39;49m\u001b[39m\"\u001b[39;49m)\n",
      "Cell \u001b[1;32mIn[1], line 50\u001b[0m, in \u001b[0;36mAnimateBlochSphere\u001b[1;34m(filename)\u001b[0m\n\u001b[0;32m     48\u001b[0m \u001b[39mprint\u001b[39m(\u001b[39m\"\u001b[39m\u001b[39manimation being created\u001b[39m\u001b[39m\"\u001b[39m)\n\u001b[0;32m     49\u001b[0m ani \u001b[39m=\u001b[39m animation\u001b[39m.\u001b[39mFuncAnimation(fig, animate, np\u001b[39m.\u001b[39marange(\u001b[39mlen\u001b[39m(s1)),init_func\u001b[39m=\u001b[39m init)\n\u001b[1;32m---> 50\u001b[0m video \u001b[39m=\u001b[39m ani\u001b[39m.\u001b[39;49mto_html5_video()\n\u001b[0;32m     51\u001b[0m html \u001b[39m=\u001b[39m display\u001b[39m.\u001b[39mHTML(video)\n\u001b[0;32m     52\u001b[0m display\u001b[39m.\u001b[39mdisplay(html)\n",
      "File \u001b[1;32mc:\\Users\\DLG\\anaconda3\\envs\\QuantumEnv\\Lib\\site-packages\\matplotlib\\animation.py:1288\u001b[0m, in \u001b[0;36mAnimation.to_html5_video\u001b[1;34m(self, embed_limit)\u001b[0m\n\u001b[0;32m   1284\u001b[0m Writer \u001b[39m=\u001b[39m writers[mpl\u001b[39m.\u001b[39mrcParams[\u001b[39m'\u001b[39m\u001b[39manimation.writer\u001b[39m\u001b[39m'\u001b[39m]]\n\u001b[0;32m   1285\u001b[0m writer \u001b[39m=\u001b[39m Writer(codec\u001b[39m=\u001b[39m\u001b[39m'\u001b[39m\u001b[39mh264\u001b[39m\u001b[39m'\u001b[39m,\n\u001b[0;32m   1286\u001b[0m                 bitrate\u001b[39m=\u001b[39mmpl\u001b[39m.\u001b[39mrcParams[\u001b[39m'\u001b[39m\u001b[39manimation.bitrate\u001b[39m\u001b[39m'\u001b[39m],\n\u001b[0;32m   1287\u001b[0m                 fps\u001b[39m=\u001b[39m\u001b[39m1000.\u001b[39m \u001b[39m/\u001b[39m \u001b[39mself\u001b[39m\u001b[39m.\u001b[39m_interval)\n\u001b[1;32m-> 1288\u001b[0m \u001b[39mself\u001b[39;49m\u001b[39m.\u001b[39;49msave(\u001b[39mstr\u001b[39;49m(path), writer\u001b[39m=\u001b[39;49mwriter)\n\u001b[0;32m   1289\u001b[0m \u001b[39m# Now open and base64 encode.\u001b[39;00m\n\u001b[0;32m   1290\u001b[0m vid64 \u001b[39m=\u001b[39m base64\u001b[39m.\u001b[39mencodebytes(path\u001b[39m.\u001b[39mread_bytes())\n",
      "File \u001b[1;32mc:\\Users\\DLG\\anaconda3\\envs\\QuantumEnv\\Lib\\site-packages\\matplotlib\\animation.py:1103\u001b[0m, in \u001b[0;36mAnimation.save\u001b[1;34m(self, filename, writer, fps, dpi, codec, bitrate, extra_args, metadata, extra_anim, savefig_kwargs, progress_callback)\u001b[0m\n\u001b[0;32m   1100\u001b[0m \u001b[39mfor\u001b[39;00m data \u001b[39min\u001b[39;00m \u001b[39mzip\u001b[39m(\u001b[39m*\u001b[39m[a\u001b[39m.\u001b[39mnew_saved_frame_seq() \u001b[39mfor\u001b[39;00m a \u001b[39min\u001b[39;00m all_anim]):\n\u001b[0;32m   1101\u001b[0m     \u001b[39mfor\u001b[39;00m anim, d \u001b[39min\u001b[39;00m \u001b[39mzip\u001b[39m(all_anim, data):\n\u001b[0;32m   1102\u001b[0m         \u001b[39m# TODO: See if turning off blit is really necessary\u001b[39;00m\n\u001b[1;32m-> 1103\u001b[0m         anim\u001b[39m.\u001b[39;49m_draw_next_frame(d, blit\u001b[39m=\u001b[39;49m\u001b[39mFalse\u001b[39;49;00m)\n\u001b[0;32m   1104\u001b[0m         \u001b[39mif\u001b[39;00m progress_callback \u001b[39mis\u001b[39;00m \u001b[39mnot\u001b[39;00m \u001b[39mNone\u001b[39;00m:\n\u001b[0;32m   1105\u001b[0m             progress_callback(frame_number, total_frames)\n",
      "File \u001b[1;32mc:\\Users\\DLG\\anaconda3\\envs\\QuantumEnv\\Lib\\site-packages\\matplotlib\\animation.py:1138\u001b[0m, in \u001b[0;36mAnimation._draw_next_frame\u001b[1;34m(self, framedata, blit)\u001b[0m\n\u001b[0;32m   1134\u001b[0m \u001b[39mdef\u001b[39;00m \u001b[39m_draw_next_frame\u001b[39m(\u001b[39mself\u001b[39m, framedata, blit):\n\u001b[0;32m   1135\u001b[0m     \u001b[39m# Breaks down the drawing of the next frame into steps of pre- and\u001b[39;00m\n\u001b[0;32m   1136\u001b[0m     \u001b[39m# post- draw, as well as the drawing of the frame itself.\u001b[39;00m\n\u001b[0;32m   1137\u001b[0m     \u001b[39mself\u001b[39m\u001b[39m.\u001b[39m_pre_draw(framedata, blit)\n\u001b[1;32m-> 1138\u001b[0m     \u001b[39mself\u001b[39;49m\u001b[39m.\u001b[39;49m_draw_frame(framedata)\n\u001b[0;32m   1139\u001b[0m     \u001b[39mself\u001b[39m\u001b[39m.\u001b[39m_post_draw(framedata, blit)\n",
      "File \u001b[1;32mc:\\Users\\DLG\\anaconda3\\envs\\QuantumEnv\\Lib\\site-packages\\matplotlib\\animation.py:1767\u001b[0m, in \u001b[0;36mFuncAnimation._draw_frame\u001b[1;34m(self, framedata)\u001b[0m\n\u001b[0;32m   1763\u001b[0m     \u001b[39mself\u001b[39m\u001b[39m.\u001b[39m_save_seq \u001b[39m=\u001b[39m \u001b[39mself\u001b[39m\u001b[39m.\u001b[39m_save_seq[\u001b[39m-\u001b[39m\u001b[39mself\u001b[39m\u001b[39m.\u001b[39m_save_count:]\n\u001b[0;32m   1765\u001b[0m \u001b[39m# Call the func with framedata and args. If blitting is desired,\u001b[39;00m\n\u001b[0;32m   1766\u001b[0m \u001b[39m# func needs to return a sequence of any artists that were modified.\u001b[39;00m\n\u001b[1;32m-> 1767\u001b[0m \u001b[39mself\u001b[39m\u001b[39m.\u001b[39m_drawn_artists \u001b[39m=\u001b[39m \u001b[39mself\u001b[39;49m\u001b[39m.\u001b[39;49m_func(framedata, \u001b[39m*\u001b[39;49m\u001b[39mself\u001b[39;49m\u001b[39m.\u001b[39;49m_args)\n\u001b[0;32m   1769\u001b[0m \u001b[39mif\u001b[39;00m \u001b[39mself\u001b[39m\u001b[39m.\u001b[39m_blit:\n\u001b[0;32m   1771\u001b[0m     err \u001b[39m=\u001b[39m \u001b[39mRuntimeError\u001b[39;00m(\u001b[39m'\u001b[39m\u001b[39mThe animation function must return a sequence \u001b[39m\u001b[39m'\u001b[39m\n\u001b[0;32m   1772\u001b[0m                        \u001b[39m'\u001b[39m\u001b[39mof Artist objects.\u001b[39m\u001b[39m'\u001b[39m)\n",
      "Cell \u001b[1;32mIn[1], line 42\u001b[0m, in \u001b[0;36mAnimateBlochSphere.<locals>.animate\u001b[1;34m(i)\u001b[0m\n\u001b[0;32m     40\u001b[0m     sphere\u001b[39m.\u001b[39madd_points([s1[\u001b[39m0\u001b[39m:i], s2[\u001b[39m0\u001b[39m:i], s3[\u001b[39m0\u001b[39m:i]])\n\u001b[0;32m     41\u001b[0m sphere\u001b[39m.\u001b[39madd_vectors([s1[i], s2[i], s3[i]])\n\u001b[1;32m---> 42\u001b[0m sphere\u001b[39m.\u001b[39;49mmake_sphere() \n\u001b[0;32m     43\u001b[0m \u001b[39mreturn\u001b[39;00m ax\n",
      "File \u001b[1;32mc:\\Users\\DLG\\anaconda3\\envs\\QuantumEnv\\Lib\\site-packages\\qutip\\bloch.py:566\u001b[0m, in \u001b[0;36mBloch.make_sphere\u001b[1;34m(self)\u001b[0m\n\u001b[0;32m    562\u001b[0m \u001b[39mdef\u001b[39;00m \u001b[39mmake_sphere\u001b[39m(\u001b[39mself\u001b[39m):\n\u001b[0;32m    563\u001b[0m \u001b[39m    \u001b[39m\u001b[39m\"\"\"\u001b[39;00m\n\u001b[0;32m    564\u001b[0m \u001b[39m    Plots Bloch sphere and data sets.\u001b[39;00m\n\u001b[0;32m    565\u001b[0m \u001b[39m    \"\"\"\u001b[39;00m\n\u001b[1;32m--> 566\u001b[0m     \u001b[39mself\u001b[39;49m\u001b[39m.\u001b[39;49mrender()\n",
      "File \u001b[1;32mc:\\Users\\DLG\\anaconda3\\envs\\QuantumEnv\\Lib\\site-packages\\qutip\\bloch.py:631\u001b[0m, in \u001b[0;36mBloch.render\u001b[1;34m(self)\u001b[0m\n\u001b[0;32m    628\u001b[0m     \u001b[39mself\u001b[39m\u001b[39m.\u001b[39mplot_axes()\n\u001b[0;32m    630\u001b[0m \u001b[39mself\u001b[39m\u001b[39m.\u001b[39mplot_back()\n\u001b[1;32m--> 631\u001b[0m \u001b[39mself\u001b[39;49m\u001b[39m.\u001b[39;49mplot_points()\n\u001b[0;32m    632\u001b[0m \u001b[39mself\u001b[39m\u001b[39m.\u001b[39mplot_vectors()\n\u001b[0;32m    633\u001b[0m \u001b[39mself\u001b[39m\u001b[39m.\u001b[39mplot_lines()\n",
      "File \u001b[1;32mc:\\Users\\DLG\\anaconda3\\envs\\QuantumEnv\\Lib\\site-packages\\qutip\\bloch.py:752\u001b[0m, in \u001b[0;36mBloch.plot_points\u001b[1;34m(self)\u001b[0m\n\u001b[0;32m    748\u001b[0m num \u001b[39m=\u001b[39m \u001b[39mlen\u001b[39m(\u001b[39mself\u001b[39m\u001b[39m.\u001b[39mpoints[k][\u001b[39m0\u001b[39m])\n\u001b[0;32m    749\u001b[0m dist \u001b[39m=\u001b[39m [sqrt(\u001b[39mself\u001b[39m\u001b[39m.\u001b[39mpoints[k][\u001b[39m0\u001b[39m][j] \u001b[39m*\u001b[39m\u001b[39m*\u001b[39m \u001b[39m2\u001b[39m \u001b[39m+\u001b[39m\n\u001b[0;32m    750\u001b[0m              \u001b[39mself\u001b[39m\u001b[39m.\u001b[39mpoints[k][\u001b[39m1\u001b[39m][j] \u001b[39m*\u001b[39m\u001b[39m*\u001b[39m \u001b[39m2\u001b[39m \u001b[39m+\u001b[39m\n\u001b[0;32m    751\u001b[0m              \u001b[39mself\u001b[39m\u001b[39m.\u001b[39mpoints[k][\u001b[39m2\u001b[39m][j] \u001b[39m*\u001b[39m\u001b[39m*\u001b[39m \u001b[39m2\u001b[39m) \u001b[39mfor\u001b[39;00m j \u001b[39min\u001b[39;00m \u001b[39mrange\u001b[39m(num)]\n\u001b[1;32m--> 752\u001b[0m \u001b[39mif\u001b[39;00m \u001b[39many\u001b[39m(\u001b[39mabs\u001b[39m(dist \u001b[39m-\u001b[39m dist[\u001b[39m0\u001b[39;49m]) \u001b[39m/\u001b[39m dist[\u001b[39m0\u001b[39m] \u001b[39m>\u001b[39m \u001b[39m1e-12\u001b[39m):\n\u001b[0;32m    753\u001b[0m     \u001b[39m# combine arrays so that they can be sorted together\u001b[39;00m\n\u001b[0;32m    754\u001b[0m     zipped \u001b[39m=\u001b[39m \u001b[39mlist\u001b[39m(\u001b[39mzip\u001b[39m(dist, \u001b[39mrange\u001b[39m(num)))\n\u001b[0;32m    755\u001b[0m     zipped\u001b[39m.\u001b[39msort()  \u001b[39m# sort rates from lowest to highest\u001b[39;00m\n",
      "\u001b[1;31mIndexError\u001b[0m: list index out of range"
     ]
    },
    {
     "data": {
      "text/plain": [
       "<Figure size 640x480 with 0 Axes>"
      ]
     },
     "metadata": {},
     "output_type": "display_data"
    }
   ],
   "source": [
    "#Simulation of qubit with decoherence times T1 and T2\n",
    "import matplotlib.pyplot as plt\n",
    "import matplotlib.animation as animation\n",
    "import mpl_toolkits.mplot3d.axes3d as ax3d\n",
    "import numpy as np\n",
    "from qutip import Bloch, about, basis, mesolve, sigmam, sigmax, sigmay, sigmaz, sigmap\n",
    "import qutip as qt\n",
    "from IPython import display\n",
    "def AnimateBlochSphere(filename):\n",
    "    '''\n",
    "    filename: the desired name of the file and the file location to put it in. Should be saved as a gif for now\n",
    "    '''\n",
    "    f = filename \n",
    "    \n",
    "    freq = 1e2 #qubit oscillation frequency \n",
    "    Omega = 2 * np.pi * freq #rabi frequency in 2* pi * [Hz] \n",
    "    g_2 = 1/5 #the inverse T_1 time in [Hz] \n",
    "    H = Omega * sigmax() #hamiltonian for qubit \n",
    "    c_ops = [np.sqrt(g_2) * sigmap()] #lindblad operators for the master equation \n",
    "    psi0 = basis(2,0) #define as starting state \n",
    "    t_list = np.linspace(0, 10, 100) \n",
    "    options = qt.Options(nsteps=10000) \n",
    "    e_ops = [sigmax(), sigmay(), sigmaz()] \n",
    "    res2 = mesolve(H, psi0, t_list, e_ops= e_ops, options=options) \n",
    "    s1 = np.array(res2.expect[0]); s2 = np.array(res2.expect[1]) ; s3 = np.array(res2.expect[2])\n",
    "    \n",
    "    print(len(s1))\n",
    "    #set up plottting stuff \n",
    "    fig = plt.figure()\n",
    "    ax = ax3d.Axes3D(fig, azim=-40, elev=30)\n",
    "    sphere = qt.Bloch(axes=ax) \n",
    "   \n",
    "    def animate(i): \n",
    "        n = 10\n",
    "        sphere.clear()\n",
    "\n",
    "        if i > n:\n",
    "            sphere.add_points([s1[i-4:i], s2[i-4:i], s3[i-4:i]])\n",
    "        else: \n",
    "            sphere.add_points([s1[0:i], s2[0:i], s3[0:i]])\n",
    "        sphere.add_vectors([s1[i], s2[i], s3[i]])\n",
    "        sphere.make_sphere() \n",
    "        return ax \n",
    "\n",
    "    def init():\n",
    "        return ax\n",
    "    \n",
    "    print(\"animation being created\")\n",
    "    ani = animation.FuncAnimation(fig, animate, np.arange(len(s1)),init_func= init)\n",
    "    video = ani.to_html5_video()\n",
    "    html = display.HTML(video)\n",
    "    display.display(html)\n",
    "\n",
    "\n",
    "AnimateBlochSphere(\"/Users/DLG/Desktop/testblochanimation.mp4\")"
   ]
  }
 ],
 "metadata": {
  "kernelspec": {
   "display_name": "QuantumEnv",
   "language": "python",
   "name": "python3"
  },
  "language_info": {
   "codemirror_mode": {
    "name": "ipython",
    "version": 3
   },
   "file_extension": ".py",
   "mimetype": "text/x-python",
   "name": "python",
   "nbconvert_exporter": "python",
   "pygments_lexer": "ipython3",
   "version": "3.11.0"
  },
  "orig_nbformat": 4
 },
 "nbformat": 4,
 "nbformat_minor": 2
}
